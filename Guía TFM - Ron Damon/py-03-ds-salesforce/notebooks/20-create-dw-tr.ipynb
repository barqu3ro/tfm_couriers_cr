{
 "cells": [
  {
   "cell_type": "markdown",
   "id": "8cb9b75e",
   "metadata": {},
   "source": [
    "# Creación de la base de datos con sqlite3"
   ]
  },
  {
   "cell_type": "code",
   "execution_count": 1,
   "id": "a74bd171",
   "metadata": {},
   "outputs": [],
   "source": [
    "import sqlite3\n",
    "import os"
   ]
  },
  {
   "cell_type": "code",
   "execution_count": 2,
   "id": "52f02e2c",
   "metadata": {},
   "outputs": [
    {
     "data": {
      "text/plain": [
       "'C:\\\\Users\\\\Ramon\\\\OneDrive - Universidad Complutense de Madrid (UCM)\\\\_TODO\\\\_PROYECTOS\\\\Docentia\\\\py-03-ds-salesforce\\\\notebooks'"
      ]
     },
     "execution_count": 2,
     "metadata": {},
     "output_type": "execute_result"
    }
   ],
   "source": [
    "# directorio actual\n",
    "os.getcwd()"
   ]
  },
  {
   "cell_type": "code",
   "execution_count": 3,
   "id": "e7bd88cc",
   "metadata": {},
   "outputs": [],
   "source": [
    "# creación de la base de datos, si no existe se crea\n",
    "conexion=sqlite3.connect(\"../data/final/dw_sf_tr.db\")"
   ]
  },
  {
   "cell_type": "code",
   "execution_count": 4,
   "id": "2b44f1c2",
   "metadata": {},
   "outputs": [],
   "source": [
    "# se genera cursor a la base de datos\n",
    "cursor=conexion.cursor()"
   ]
  },
  {
   "cell_type": "markdown",
   "id": "6c87b85b",
   "metadata": {},
   "source": [
    "## Familia de producto"
   ]
  },
  {
   "cell_type": "code",
   "execution_count": 5,
   "id": "40c5f070",
   "metadata": {},
   "outputs": [
    {
     "data": {
      "text/plain": [
       "<sqlite3.Cursor at 0x269e8680d50>"
      ]
     },
     "execution_count": 5,
     "metadata": {},
     "output_type": "execute_result"
    }
   ],
   "source": [
    "# borrado si existe\n",
    "sql=\"\"\"\n",
    "    DROP TABLE IF EXISTS DIM_FAMPRO;\n",
    "    \"\"\"\n",
    "cursor.executescript(sql)\n",
    "\n",
    "sql=\"\"\"\n",
    "    DROP TABLE IF EXISTS M_FAMPRO;\n",
    "    \"\"\"\n",
    "cursor.executescript(sql)"
   ]
  },
  {
   "cell_type": "code",
   "execution_count": 6,
   "id": "2446c5a1",
   "metadata": {},
   "outputs": [
    {
     "data": {
      "text/plain": [
       "<sqlite3.Cursor at 0x269e8680d50>"
      ]
     },
     "execution_count": 6,
     "metadata": {},
     "output_type": "execute_result"
    }
   ],
   "source": [
    "# creación tabla\n",
    "sql=\"\"\"\n",
    "    CREATE TABLE DIM_FAMPRO (\n",
    "        IDE_FAMPRO VARCHAR(255) NOT NULL PRIMARY KEY,\n",
    "        COD_FAMPRO VARCHAR(255),\n",
    "        DES_FAMPRO VARCHAR(255),\n",
    "        FEC_MOD_FAMPRO DATETIME NOT NULL\n",
    "        );\n",
    "    \"\"\"\n",
    "cursor.executescript(sql)"
   ]
  },
  {
   "cell_type": "code",
   "execution_count": 7,
   "id": "a2ba3d7e",
   "metadata": {},
   "outputs": [
    {
     "data": {
      "text/plain": [
       "<function Connection.commit>"
      ]
     },
     "execution_count": 7,
     "metadata": {},
     "output_type": "execute_result"
    }
   ],
   "source": [
    "# insertar valores por defecto\n",
    "cursor.executescript(\"INSERT INTO DIM_FAMPRO VALUES ('9999999999','9999999999','SIN FAMILIA','2001-01-01')\")\n",
    "conexion.commit"
   ]
  },
  {
   "cell_type": "markdown",
   "id": "fcb5be17",
   "metadata": {},
   "source": [
    "## Producto"
   ]
  },
  {
   "cell_type": "code",
   "execution_count": 8,
   "id": "2c631129",
   "metadata": {},
   "outputs": [
    {
     "data": {
      "text/plain": [
       "<sqlite3.Cursor at 0x269e8680d50>"
      ]
     },
     "execution_count": 8,
     "metadata": {},
     "output_type": "execute_result"
    }
   ],
   "source": [
    "# borrado si existe\n",
    "sql=\"\"\"\n",
    "    DROP TABLE IF EXISTS DIM_PRODUC;\n",
    "    \"\"\"\n",
    "cursor.executescript(sql)\n",
    "\n",
    "sql=\"\"\"\n",
    "    DROP TABLE IF EXISTS M_PRODUC;\n",
    "    \"\"\"\n",
    "cursor.executescript(sql)\n",
    "\n",
    "sql=\"\"\"\n",
    "    DROP TABLE IF EXISTS M_ERR_PRODUC;\n",
    "    \"\"\"\n",
    "cursor.executescript(sql)"
   ]
  },
  {
   "cell_type": "code",
   "execution_count": 9,
   "id": "4201c0e4",
   "metadata": {},
   "outputs": [
    {
     "data": {
      "text/plain": [
       "<sqlite3.Cursor at 0x269e8680d50>"
      ]
     },
     "execution_count": 9,
     "metadata": {},
     "output_type": "execute_result"
    }
   ],
   "source": [
    "# creación tabla de productos\n",
    "sql=\"\"\"\n",
    "    CREATE TABLE DIM_PRODUC (\n",
    "        IDE_PRODUC VARCHAR(255) NOT NULL  PRIMARY KEY,\n",
    "        COD_PRODUC VARCHAR(255),        \n",
    "        DES_PRODUC VARCHAR(255),\n",
    "        IDE_FAMPRO VARCHAR(255) NOT NULL,\n",
    "        FEC_MOD_PRODUC DATETIME\n",
    "        );\n",
    "    \"\"\"\n",
    "cursor.executescript(sql)"
   ]
  },
  {
   "cell_type": "code",
   "execution_count": 10,
   "id": "fe400a93",
   "metadata": {},
   "outputs": [
    {
     "data": {
      "text/plain": [
       "<function Connection.commit>"
      ]
     },
     "execution_count": 10,
     "metadata": {},
     "output_type": "execute_result"
    }
   ],
   "source": [
    "# insertar valores por defecto\n",
    "cursor.executescript(\"INSERT INTO DIM_PRODUC VALUES ('9999999999','9999999999','SIN PRODUCTO','9999999999', '2001-01-01')\")\n",
    "conexion.commit"
   ]
  },
  {
   "cell_type": "markdown",
   "id": "e26eafff",
   "metadata": {},
   "source": [
    "## Cuenta"
   ]
  },
  {
   "cell_type": "code",
   "execution_count": 11,
   "id": "8fd08d70",
   "metadata": {},
   "outputs": [
    {
     "data": {
      "text/plain": [
       "<sqlite3.Cursor at 0x269e8680d50>"
      ]
     },
     "execution_count": 11,
     "metadata": {},
     "output_type": "execute_result"
    }
   ],
   "source": [
    "# borrado si existe\n",
    "sql=\"\"\"\n",
    "    DROP TABLE IF EXISTS DIM_CUENTA;\n",
    "    \"\"\"\n",
    "cursor.executescript(sql)\n",
    "\n",
    "sql=\"\"\"\n",
    "    DROP TABLE IF EXISTS M_CUENTA;\n",
    "    \"\"\"\n",
    "cursor.executescript(sql)"
   ]
  },
  {
   "cell_type": "code",
   "execution_count": 12,
   "id": "1f1a1c55",
   "metadata": {},
   "outputs": [
    {
     "data": {
      "text/plain": [
       "<sqlite3.Cursor at 0x269e8680d50>"
      ]
     },
     "execution_count": 12,
     "metadata": {},
     "output_type": "execute_result"
    }
   ],
   "source": [
    "# creación tabla\n",
    "sql=\"\"\"\n",
    "    CREATE TABLE DIM_CUENTA (\n",
    "        IDE_CUENTA VARCHAR(255) NOT NULL  PRIMARY KEY,\n",
    "        COD_CUENTA VARCHAR(255),\n",
    "        DES_CUENTA VARCHAR(255),\n",
    "        DES_VIA_CUENTA    VARCHAR(255),\n",
    "        DES_CIUDAD_CUENTA VARCHAR(255),\n",
    "        DES_ESTADO_CUENTA VARCHAR(255),\n",
    "        DES_CODPOS_CUENTA VARCHAR(255),\n",
    "        DES_PAIS_CUENTA   VARCHAR(255),\n",
    "        NUM_EDAD_CUENTA             REAL,\n",
    "        NUM_TAMANO_FAMILIAR_CUENTA  REAL,\n",
    "        NUM_ANOS_EXPERIENCIA_CUENTA REAL,\n",
    "        NUM_INGRESOS_ANO_CUENTA     REAL,\n",
    "        FEC_MOD_CUENTA DATETIME        \n",
    "        );\n",
    "    \"\"\"\n",
    "cursor.executescript(sql)"
   ]
  },
  {
   "cell_type": "code",
   "execution_count": 13,
   "id": "746d545e",
   "metadata": {},
   "outputs": [
    {
     "data": {
      "text/plain": [
       "<function Connection.commit>"
      ]
     },
     "execution_count": 13,
     "metadata": {},
     "output_type": "execute_result"
    }
   ],
   "source": [
    "# insertar valores por defecto\n",
    "cursor.executescript(\"INSERT INTO DIM_CUENTA VALUES ('9999999999','9999999999','SIN CUENTA',NULL,NULL,NULL,NULL,NULL,NULL,NULL,NULL,NULL, '2001-01-01')\")\n",
    "conexion.commit"
   ]
  },
  {
   "cell_type": "markdown",
   "id": "6c8b9b68",
   "metadata": {},
   "source": [
    "## Nivel de educación"
   ]
  },
  {
   "cell_type": "code",
   "execution_count": 14,
   "id": "ca4986e6",
   "metadata": {},
   "outputs": [
    {
     "data": {
      "text/plain": [
       "<sqlite3.Cursor at 0x269e8680d50>"
      ]
     },
     "execution_count": 14,
     "metadata": {},
     "output_type": "execute_result"
    }
   ],
   "source": [
    "# borrado si existe\n",
    "sql=\"\"\"\n",
    "    DROP TABLE IF EXISTS DIM_NIVEDU_CONTAC;\n",
    "    \"\"\"\n",
    "cursor.executescript(sql)\n",
    "\n",
    "sql=\"\"\"\n",
    "    DROP TABLE IF EXISTS M_NIVEDU_CONTAC;\n",
    "    \"\"\"\n",
    "cursor.executescript(sql)"
   ]
  },
  {
   "cell_type": "code",
   "execution_count": 15,
   "id": "32515e8d",
   "metadata": {},
   "outputs": [
    {
     "data": {
      "text/plain": [
       "<sqlite3.Cursor at 0x269e8680d50>"
      ]
     },
     "execution_count": 15,
     "metadata": {},
     "output_type": "execute_result"
    }
   ],
   "source": [
    "# creación tabla\n",
    "sql=\"\"\"\n",
    "    CREATE TABLE DIM_NIVEDU_CONTAC (\n",
    "        IDE_NIVEDU_CONTAC VARCHAR(255) NOT NULL PRIMARY KEY,\n",
    "        COD_NIVEDU_CONTAC VARCHAR(255),\n",
    "        DES_NIVEDU_CONTAC VARCHAR(255),\n",
    "        FEC_MOD_NIVEDU_CONTAC DATETIME NOT NULL\n",
    "        );\n",
    "    \"\"\"\n",
    "cursor.executescript(sql)"
   ]
  },
  {
   "cell_type": "code",
   "execution_count": 16,
   "id": "26ca76b5",
   "metadata": {},
   "outputs": [
    {
     "data": {
      "text/plain": [
       "<function Connection.commit>"
      ]
     },
     "execution_count": 16,
     "metadata": {},
     "output_type": "execute_result"
    }
   ],
   "source": [
    "# insertar valores por defecto\n",
    "cursor.executescript(\"INSERT INTO DIM_NIVEDU_CONTAC VALUES ('9999999999','9999999999','SIN NIVEL EDUCACION','2001-01-01')\")\n",
    "cursor.executescript(\"INSERT INTO DIM_NIVEDU_CONTAC VALUES ('1','1','ESTUDIOS PRIMARIOS','2001-01-01')\")\n",
    "cursor.executescript(\"INSERT INTO DIM_NIVEDU_CONTAC VALUES ('2','2','ESTUDIOS MEDIOS','2001-01-01')\")\n",
    "cursor.executescript(\"INSERT INTO DIM_NIVEDU_CONTAC VALUES ('3','3','ESTUDIOS AVANZADOS','2001-01-01')\")\n",
    "\n",
    "conexion.commit"
   ]
  },
  {
   "cell_type": "code",
   "execution_count": null,
   "id": "2a8f2ac2",
   "metadata": {},
   "outputs": [],
   "source": []
  },
  {
   "cell_type": "markdown",
   "id": "d435ae7a",
   "metadata": {},
   "source": [
    "## Contacto"
   ]
  },
  {
   "cell_type": "code",
   "execution_count": 17,
   "id": "551214b2",
   "metadata": {},
   "outputs": [
    {
     "data": {
      "text/plain": [
       "<sqlite3.Cursor at 0x269e8680d50>"
      ]
     },
     "execution_count": 17,
     "metadata": {},
     "output_type": "execute_result"
    }
   ],
   "source": [
    "# borrado si existe\n",
    "sql=\"\"\"\n",
    "    DROP TABLE IF EXISTS DIM_CONTAC;\n",
    "    \"\"\"\n",
    "cursor.executescript(sql)\n",
    "\n",
    "sql=\"\"\"\n",
    "    DROP TABLE IF EXISTS M_CONTAC;\n",
    "    \"\"\"\n",
    "cursor.executescript(sql)\n",
    "\n",
    "sql=\"\"\"\n",
    "    DROP TABLE IF EXISTS M_ERR_CONTAC;\n",
    "    \"\"\"\n",
    "cursor.executescript(sql)"
   ]
  },
  {
   "cell_type": "code",
   "execution_count": 18,
   "id": "c5d91688",
   "metadata": {},
   "outputs": [
    {
     "data": {
      "text/plain": [
       "<sqlite3.Cursor at 0x269e8680d50>"
      ]
     },
     "execution_count": 18,
     "metadata": {},
     "output_type": "execute_result"
    }
   ],
   "source": [
    "# creación tabla\n",
    "sql=\"\"\"\n",
    "    CREATE TABLE DIM_CONTAC (\n",
    "        IDE_CONTAC VARCHAR(255) NOT NULL  PRIMARY KEY,\n",
    "        COD_CONTAC VARCHAR(255),\n",
    "        DES_CONTAC VARCHAR(255),\n",
    "        DES_VIA_CONTAC    VARCHAR(255),\n",
    "        DES_CIUDAD_CONTAC VARCHAR(255),\n",
    "        DES_ESTADO_CONTAC VARCHAR(255),\n",
    "        DES_CODPOS_CONTAC VARCHAR(255),\n",
    "        DES_PAIS_CONTAC   VARCHAR(255),\n",
    "        DES_EMAIL_CONTAC  VARCHAR(255),\n",
    "        DES_TELEFONO_CONTAC VARCHAR(15),    \n",
    "        DES_MOVIL_CONTAC    VARCHAR(15),\n",
    "        IND_EMAIL_RECHAZA_CONTAC VARCHAR(1),\n",
    "        FEC_NACIMIENTO_CONTAC DATETIME,\n",
    "        IDE_CUENTA VARCHAR(255),\n",
    "        IDE_NIVEDU_CONTAC VARCHAR(255),\n",
    "        FEC_MOD_CONTAC DATETIME        \n",
    "        );\n",
    "    \"\"\"\n",
    "cursor.executescript(sql)"
   ]
  },
  {
   "cell_type": "code",
   "execution_count": 19,
   "id": "9d15ff17",
   "metadata": {},
   "outputs": [
    {
     "data": {
      "text/plain": [
       "<function Connection.commit>"
      ]
     },
     "execution_count": 19,
     "metadata": {},
     "output_type": "execute_result"
    }
   ],
   "source": [
    "# insertar valores por defecto\n",
    "cursor.executescript(\"INSERT INTO DIM_CONTAC VALUES ('9999999999','9999999999','SIN CONTACTO',NULL,NULL,NULL,NULL,NULL,NULL,NULL,NULL,NULL,NULL,'9999999999','9999999999', '2001-01-01')\")\n",
    "conexion.commit"
   ]
  },
  {
   "cell_type": "markdown",
   "id": "c370b232",
   "metadata": {},
   "source": [
    "## Fecha Oportunidad"
   ]
  },
  {
   "cell_type": "code",
   "execution_count": 20,
   "id": "7a66f84a",
   "metadata": {},
   "outputs": [
    {
     "data": {
      "text/plain": [
       "<sqlite3.Cursor at 0x269e8680d50>"
      ]
     },
     "execution_count": 20,
     "metadata": {},
     "output_type": "execute_result"
    }
   ],
   "source": [
    "# borrado si existe\n",
    "sql=\"\"\"\n",
    "    DROP TABLE IF EXISTS DIM_FEC_OPORTU;\n",
    "    \"\"\"\n",
    "cursor.executescript(sql)"
   ]
  },
  {
   "cell_type": "code",
   "execution_count": 21,
   "id": "97bdcb83",
   "metadata": {},
   "outputs": [
    {
     "data": {
      "text/plain": [
       "<sqlite3.Cursor at 0x269e8680d50>"
      ]
     },
     "execution_count": 21,
     "metadata": {},
     "output_type": "execute_result"
    }
   ],
   "source": [
    "sql=\"\"\"\n",
    "    DROP TABLE IF EXISTS M_FEC_OPORTU;\n",
    "    \"\"\"\n",
    "cursor.executescript(sql)"
   ]
  },
  {
   "cell_type": "code",
   "execution_count": 22,
   "id": "7f2e48cf",
   "metadata": {},
   "outputs": [
    {
     "data": {
      "text/plain": [
       "<sqlite3.Cursor at 0x269e8680d50>"
      ]
     },
     "execution_count": 22,
     "metadata": {},
     "output_type": "execute_result"
    }
   ],
   "source": [
    "# creación tabla\n",
    "sql=\"\"\"\n",
    "    CREATE TABLE DIM_FEC_OPORTU (\n",
    "        IDE_FEC_OPORTU VARCHAR(255) NOT NULL  PRIMARY KEY,\n",
    "        COD_FEC_OPORTU VARCHAR(255),\n",
    "        DES_FEC_OPORTU VARCHAR(255),\n",
    "        IND_CARGADA_FEC_OPORTU VARCHAR2(255),\n",
    "        FEC_MOD_FEC_OPORTU DATETIME        \n",
    "        );\n",
    "    \"\"\"\n",
    "cursor.executescript(sql)"
   ]
  },
  {
   "cell_type": "code",
   "execution_count": 23,
   "id": "11d3d75a",
   "metadata": {},
   "outputs": [
    {
     "data": {
      "text/plain": [
       "<function Connection.commit>"
      ]
     },
     "execution_count": 23,
     "metadata": {},
     "output_type": "execute_result"
    }
   ],
   "source": [
    "# insertar valores por defecto\n",
    "cursor.executescript(\"INSERT INTO DIM_FEC_OPORTU VALUES ('2001-01-01','2001-01-01','SIN FECHA','1','2001-01-01')\")\n",
    "conexion.commit"
   ]
  },
  {
   "cell_type": "markdown",
   "id": "8e65ddb7",
   "metadata": {},
   "source": [
    "## Oportunidad"
   ]
  },
  {
   "cell_type": "code",
   "execution_count": 24,
   "id": "e450eea4",
   "metadata": {},
   "outputs": [
    {
     "data": {
      "text/plain": [
       "<sqlite3.Cursor at 0x269e8680d50>"
      ]
     },
     "execution_count": 24,
     "metadata": {},
     "output_type": "execute_result"
    }
   ],
   "source": [
    "# borrado si existe\n",
    "sql=\"\"\"\n",
    "    DROP TABLE IF EXISTS DIM_OPORTU;\n",
    "    \"\"\"\n",
    "cursor.executescript(sql)\n",
    "\n",
    "sql=\"\"\"\n",
    "    DROP TABLE IF EXISTS M_OPORTU;\n",
    "    \"\"\"\n",
    "cursor.executescript(sql)\n",
    "\n",
    "sql=\"\"\"\n",
    "    DROP TABLE IF EXISTS M_ERR_OPORTU;\n",
    "    \"\"\"\n",
    "cursor.executescript(sql)"
   ]
  },
  {
   "cell_type": "code",
   "execution_count": 25,
   "id": "11487815",
   "metadata": {},
   "outputs": [
    {
     "data": {
      "text/plain": [
       "<sqlite3.Cursor at 0x269e8680d50>"
      ]
     },
     "execution_count": 25,
     "metadata": {},
     "output_type": "execute_result"
    }
   ],
   "source": [
    "# creación tabla\n",
    "sql=\"\"\"\n",
    "    CREATE TABLE DIM_OPORTU (\n",
    "        IDE_OPORTU VARCHAR(255) NOT NULL  PRIMARY KEY,\n",
    "        COD_OPORTU VARCHAR(255),\n",
    "        DES_OPORTU VARCHAR(255),\n",
    "        IDE_FEC_OPORTU VARCHAR(255),\n",
    "        IDE_CUENTA VARCHAR(255),\n",
    "        IDE_CONTAC VARCHAR(255),\n",
    "        FEC_MOD_OPORTU DATETIME        \n",
    "        );\n",
    "    \"\"\"\n",
    "cursor.executescript(sql)"
   ]
  },
  {
   "cell_type": "code",
   "execution_count": 26,
   "id": "d574919b",
   "metadata": {},
   "outputs": [
    {
     "data": {
      "text/plain": [
       "<function Connection.commit>"
      ]
     },
     "execution_count": 26,
     "metadata": {},
     "output_type": "execute_result"
    }
   ],
   "source": [
    "# insertar valores por defecto\n",
    "cursor.executescript(\"INSERT INTO DIM_OPORTU VALUES ('9999999999','9999999999','SIN OPORTUNIDAD','9999999999','9999999999','9999999999','2001-01-01')\")\n",
    "conexion.commit"
   ]
  },
  {
   "cell_type": "markdown",
   "id": "37aef798",
   "metadata": {},
   "source": [
    "## Línea Oportunidad"
   ]
  },
  {
   "cell_type": "code",
   "execution_count": 27,
   "id": "20980137",
   "metadata": {},
   "outputs": [
    {
     "data": {
      "text/plain": [
       "<sqlite3.Cursor at 0x269e8680d50>"
      ]
     },
     "execution_count": 27,
     "metadata": {},
     "output_type": "execute_result"
    }
   ],
   "source": [
    "# borrado si existe\n",
    "sql=\"\"\"\n",
    "    DROP TABLE IF EXISTS FAC_LIN_OPORTU;\n",
    "    \"\"\"\n",
    "cursor.executescript(sql)\n",
    "\n",
    "sql=\"\"\"\n",
    "    DROP TABLE IF EXISTS M_LIN_OPORTU;\n",
    "    \"\"\"\n",
    "cursor.executescript(sql)\n",
    "\n",
    "sql=\"\"\"\n",
    "    DROP TABLE IF EXISTS M_ERR_LIN_OPORTU;\n",
    "    \"\"\"\n",
    "cursor.executescript(sql)"
   ]
  },
  {
   "cell_type": "code",
   "execution_count": 28,
   "id": "682bd77f",
   "metadata": {},
   "outputs": [
    {
     "data": {
      "text/plain": [
       "<sqlite3.Cursor at 0x269e8680d50>"
      ]
     },
     "execution_count": 28,
     "metadata": {},
     "output_type": "execute_result"
    }
   ],
   "source": [
    "# creación tabla\n",
    "sql=\"\"\"\n",
    "    CREATE TABLE FAC_LIN_OPORTU (\n",
    "        IDE_LIN_OPORTU VARCHAR(255) NOT NULL  PRIMARY KEY,\n",
    "        COD_LIN_OPORTU VARCHAR(255),\n",
    "        DES_LIN_OPORTU VARCHAR(255),\n",
    "        NUM_CANTIDAD_LIN_OPORTU REAL,\n",
    "        NUM_PRECTOT_LIN_OPORTU REAL,\n",
    "        NUM_PRECUNI_LIN_OPORTU REAL,       \n",
    "        IDE_PRODUC VARCHAR(255),\n",
    "        IDE_OPORTU VARCHAR(255),\n",
    "        FEC_MOD_LIN_OPORTU DATETIME        \n",
    "        );\n",
    "    \"\"\"\n",
    "cursor.executescript(sql)"
   ]
  },
  {
   "cell_type": "code",
   "execution_count": 29,
   "id": "729c1f9f",
   "metadata": {},
   "outputs": [],
   "source": [
    "# se cierra la conexión con la bbdd\n",
    "conexion.close()"
   ]
  }
 ],
 "metadata": {
  "kernelspec": {
   "display_name": "Python 3 (ipykernel)",
   "language": "python",
   "name": "python3"
  },
  "language_info": {
   "codemirror_mode": {
    "name": "ipython",
    "version": 3
   },
   "file_extension": ".py",
   "mimetype": "text/x-python",
   "name": "python",
   "nbconvert_exporter": "python",
   "pygments_lexer": "ipython3",
   "version": "3.9.13"
  }
 },
 "nbformat": 4,
 "nbformat_minor": 5
}
